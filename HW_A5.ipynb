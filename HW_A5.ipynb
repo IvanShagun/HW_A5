{
 "cells": [
  {
   "cell_type": "code",
   "execution_count": 33,
   "id": "55fc4f8c",
   "metadata": {},
   "outputs": [],
   "source": [
    "from scipy import stats\n",
    "import numpy as np"
   ]
  },
  {
   "cell_type": "markdown",
   "id": "fa624007",
   "metadata": {},
   "source": [
    "#### 2) Проведите тест гипотезы. Утверждается, что шарики для подшипников, изготовленные автоматическим станком, имеют средний диаметр 17 мм. Используя односторонний критерий с α=0,05, проверить эту гипотезу, если в выборке из n=100 шариков средний диаметр оказался равным 17.5 мм, а дисперсия известна и равна 4 кв. мм."
   ]
  },
  {
   "cell_type": "code",
   "execution_count": 1,
   "id": "26917096",
   "metadata": {},
   "outputs": [
    {
     "data": {
      "text/plain": [
       "2.5"
      ]
     },
     "execution_count": 1,
     "metadata": {},
     "output_type": "execute_result"
    }
   ],
   "source": [
    "(17.5- 17)/(2/10)"
   ]
  },
  {
   "cell_type": "markdown",
   "id": "0a47fe57",
   "metadata": {},
   "source": [
    "Вывод: выбираем альтернативную гипотезу"
   ]
  },
  {
   "cell_type": "markdown",
   "id": "0ab3d7ba",
   "metadata": {},
   "source": [
    "#### 3)Проведите тест гипотезы. Продавец утверждает, что средний вес пачки печенья составляет 200 г.Из партии извлечена выборка из 10 пачек. Вес каждой пачки составляет:202, 203, 199, 197, 195, 201, 200, 204, 194, 190. Известно, что их веса распределены нормально. Верно ли утверждение продавца, если учитывать, что доверительная вероятность равна 99%? (Провести двусторонний тест.)"
   ]
  },
  {
   "cell_type": "code",
   "execution_count": 40,
   "id": "a4ad079d",
   "metadata": {},
   "outputs": [
    {
     "name": "stdout",
     "output_type": "stream",
     "text": [
      "198.5\n",
      "4.453463071962462\n",
      "-1.0651074037450896\n"
     ]
    },
    {
     "data": {
      "text/plain": [
       "-3.24983554401537"
      ]
     },
     "execution_count": 40,
     "metadata": {},
     "output_type": "execute_result"
    }
   ],
   "source": [
    "x = np.array([202, 203, 199, 197, 195, 201, 200, 204, 194, 190])\n",
    "print(x.mean())\n",
    "print(x.std(ddof=1))\n",
    "t = (x.mean()-200)/(x.std(ddof=1)/np.sqrt(10))\n",
    "print(t)\n",
    "t_table = stats.t.ppf(0.005, 9)\n",
    "t_table"
   ]
  },
  {
   "cell_type": "markdown",
   "id": "7d235ddd",
   "metadata": {},
   "source": [
    "Наблюдаемое значение не выходит за рамки -3.25 < t <  3.25. Утверждения продавца верны"
   ]
  },
  {
   "cell_type": "markdown",
   "id": "ea55033a",
   "metadata": {},
   "source": [
    "#### 4)Есть ли статистически значимые различия в росте дочерей? Рост матерей 172, 177, 158, 170, 178,175, 164, 160, 169 Рост взрослых дочерей: 173, 175, 162, 174, 175, 168, 155, 170, 160"
   ]
  },
  {
   "cell_type": "code",
   "execution_count": 48,
   "id": "fc518553",
   "metadata": {
    "scrolled": true
   },
   "outputs": [
    {
     "data": {
      "text/plain": [
       "Ttest_indResult(statistic=0.35581195161541973, pvalue=0.7266292679160495)"
      ]
     },
     "execution_count": 48,
     "metadata": {},
     "output_type": "execute_result"
    }
   ],
   "source": [
    "x = np.array([172, 177, 158, 170, 178,175, 164, 160, 169])\n",
    "y = np.array([173, 175, 162, 174, 175, 168, 155, 170, 160])\n",
    "stats.ttest_ind(x,y)\n"
   ]
  },
  {
   "cell_type": "markdown",
   "id": "b15aa94f",
   "metadata": {},
   "source": [
    "Pvalue > $\\alpha$, Статистических различий нет"
   ]
  }
 ],
 "metadata": {
  "kernelspec": {
   "display_name": "Python 3 (ipykernel)",
   "language": "python",
   "name": "python3"
  },
  "language_info": {
   "codemirror_mode": {
    "name": "ipython",
    "version": 3
   },
   "file_extension": ".py",
   "mimetype": "text/x-python",
   "name": "python",
   "nbconvert_exporter": "python",
   "pygments_lexer": "ipython3",
   "version": "3.11.3"
  }
 },
 "nbformat": 4,
 "nbformat_minor": 5
}
